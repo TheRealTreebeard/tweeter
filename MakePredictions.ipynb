{
 "cells": [
  {
   "cell_type": "code",
   "execution_count": 20,
   "metadata": {},
   "outputs": [
    {
     "data": {
      "text/html": [
       "<style>.container { width:100% !important; }</style>"
      ],
      "text/plain": [
       "<IPython.core.display.HTML object>"
      ]
     },
     "metadata": {},
     "output_type": "display_data"
    }
   ],
   "source": [
    "from IPython.core.display import display, HTML\n",
    "display(HTML(\"<style>.container { width:100% !important; }</style>\"))"
   ]
  },
  {
   "cell_type": "code",
   "execution_count": 21,
   "metadata": {},
   "outputs": [],
   "source": [
    "MODEL_FILE = 'TWEETS_50000-epoch-100.h5'\n",
    "TOKENIZER_FILE = 'tokenizer.pickle'\n",
    "WORDS_TO_GENERATE = 55\n",
    "INCOMING_SEQUENCE_LENGTH = 20 #words"
   ]
  },
  {
   "cell_type": "code",
   "execution_count": 10,
   "metadata": {},
   "outputs": [],
   "source": [
    "import pickle\n",
    "import tensorflow as tf\n",
    "from tensorflow import keras\n",
    "from termcolor import colored\n",
    "from keras.preprocessing.sequence import pad_sequences\n",
    "\n",
    "model = keras.models.load_model(MODEL_FILE)\n",
    "with open(TOKENIZER_FILE, 'rb') as handle:\n",
    "    tokenizer = pickle.load(handle)\n",
    "\n",
    "def makeTweets(seed_text):\n",
    "    generated = generate_seq(model, tokenizer, INCOMING_SEQUENCE_LENGTH, seed_text, WORDS_TO_GENERATE)\n",
    "    print(colored(seed_text, 'red'), colored(generated, 'green'))\n",
    "    print()\n",
    "        \n",
    "def generate_seq(model, tokenizer, seq_length, seed_text, n_words):\n",
    "    result = list()\n",
    "    in_text = seed_text.lower()\n",
    "    # generate a fixed number of words\n",
    "    for _ in range(n_words):\n",
    "        # encode the text as integer\n",
    "        encoded = tokenizer.texts_to_sequences([in_text])[0]\n",
    "        # truncate sequences to a fixed length\n",
    "        encoded = pad_sequences([encoded], maxlen=seq_length, truncating='pre')\n",
    "        # predict probabilities for each word\n",
    "        yhat = model.predict_classes(encoded, verbose=0)\n",
    "        # map predicted word index to word\n",
    "        out_word = ''\n",
    "        for word, index in tokenizer.word_index.items():\n",
    "            if index == yhat:\n",
    "                out_word = word\n",
    "                break\n",
    "        # append to input\n",
    "        in_text += ' ' + out_word\n",
    "        result.append(out_word)\n",
    "    return ' '.join(result)"
   ]
  },
  {
   "cell_type": "code",
   "execution_count": 12,
   "metadata": {},
   "outputs": [
    {
     "name": "stdout",
     "output_type": "stream",
     "text": [
      "\u001b[31mEveryone knows\u001b[0m \u001b[32mme i will be on athandleoreillyfactor tonight athandlefoxnews enjoy i will be interviewed on athandlefoxandfriends at am enjoy i will be interviewed on athandlefoxandfriends at am enjoy i will be interviewed on athandlefoxandfriends at am enjoy i will be interviewed on athandlefoxandfriends at am enjoy i will be interviewed on athandlefoxandfriends at am enjoy i\u001b[0m\n",
      "\n",
      "\u001b[31mI am the\u001b[0m \u001b[32monly candidate that is in a only man who is not going to go down and i will be on athandlefoxandfriends with a big rally at the white house new york times is a major and very dangerous southern border the wall is the big economic and the wall street journal editorial board as a\u001b[0m\n",
      "\n",
      "\u001b[31mA lot of people are saying\u001b[0m \u001b[32mthat i love you will be in new hampshire last night i can you believe the fake news media is out by great thank you to the great state of indiana i will be interviewed by athandlefoxandfriends tonight at on athandlefoxnews enjoy mike pence will be interviewed on athandlefoxandfriends at am enjoy thank you buffalo\u001b[0m\n",
      "\n",
      "\u001b[31mThe Democrats should\u001b[0m \u001b[32mstop the debate thanks should finally go to another fake news report when it comes to the way of the united states i will never let you down the three years is now about it is a big win for the people of ohio he is a great honor to be back in pennsylvania make\u001b[0m\n",
      "\n",
      "\u001b[31mCongratulations to\u001b[0m \u001b[32meddie donaldtrump i will be interviewed on athandlefoxandfriends this morning at am enjoy i will be interviewed on athandlefoxandfriends at am enjoy i am sending to virginia to a big rally in new hampshire a great day in new hampshire a great crowd and great state pennsylvania thank you ohio makeamericagreatagain thank you pennsylvania thank\u001b[0m\n",
      "\n",
      "\u001b[31mWho would have thought\u001b[0m \u001b[32mi had to fire general flynn because she was a big factor like a great rally for working people in washington dc thank you for joining me at the lincoln memorial on athandlefoxnews with the american people congratulations to law enforcement and the republican party thank you it was my great honor to sign up\u001b[0m\n",
      "\n",
      "\u001b[31mNancy Pelosi and the democrats\u001b[0m \u001b[32mare going to go up to the big tax cut and reform bill with virtually all of the many years that the fake news media will report it never do the dems are trying to make it the corrupt party not for a long time i have not to be allowed to the us in\u001b[0m\n",
      "\n",
      "\u001b[31mAOC\u001b[0m \u001b[32mamp s i am winning thank you for the support of the police draintheswamp join me live join me tomorrow join me at tickets eastern just like a major group on people not watch the fake news media is the most corrupt person in the history of our country it is a corrupt and corrupt\u001b[0m\n",
      "\n",
      "\u001b[31mBernie Sanders is a\u001b[0m \u001b[32mdisgrace to the fbi director of his reportand angry angry democrats failed as the corrupt politician adam schiff the real story in the house intelligence committee should not have been allowed to the fbi and the democrats to know that the mueller report is now the fact that was so dangerous the democrat party is\u001b[0m\n",
      "\n",
      "\u001b[31mSomeone should tell Chuck Shumer\u001b[0m \u001b[32mschumer and did not do a job when he said that he would have been a president who is totally discredited and corrupt and fake news for the united states i am proud to stand for our country and our country the more than ever we will be the most secure people in our country\u001b[0m\n",
      "\n",
      "\u001b[31mathandleOANN\u001b[0m \u001b[32mathandlerealdonaldtrump i will be on athandleseanhannity i will be interviewed on athandlefoxandfriends at am enjoy i will be interviewed on athandlefoxandfriends at am enjoy i will be interviewed on athandlefoxandfriends at am enjoy i will be interviewed on athandlefoxandfriends at am enjoy i will be interviewed on athandlefoxandfriends at am enjoy i will be interviewed\u001b[0m\n",
      "\n",
      "\u001b[31mathandleFoxNews\u001b[0m \u001b[32mis going to get your show once big again cruz just went out of a massive part of the democrat party in the history of our country in the senate this is a disgrace to the great state of florida and the people of the great state of texas will be in cleveland ohio in\u001b[0m\n",
      "\n",
      "\u001b[31mObama\u001b[0m \u001b[32mis going to be good i will be interviewed on athandlefoxandfriends now enjoy i will be interviewed on athandlefoxandfriends at am enjoy i will be interviewed on athandlefoxandfriends at am enjoy i will be interviewed on athandlefoxandfriends at am enjoy i will be interviewed on athandlefoxandfriends at am enjoy i will be interviewed on athandlefoxandfriends\u001b[0m\n",
      "\n",
      "\u001b[31mJoe Biden\u001b[0m \u001b[32mis going to get a lot of money from crooked hillary clinton and the dnc refused to make his agenda in his stories to do so they know what i said they would have been going on with them so much and even worse for a big surprise to good news if they say they\u001b[0m\n",
      "\n"
     ]
    }
   ],
   "source": [
    "makeTweets('Everyone knows')\n",
    "makeTweets('I am the')\n",
    "makeTweets('A lot of people are saying')\n",
    "makeTweets('The Democrats should')\n",
    "makeTweets('Congratulations to')\n",
    "makeTweets('Who would have thought')\n",
    "makeTweets('Nancy Pelosi and the democrats')\n",
    "makeTweets('AOC')\n",
    "makeTweets('Bernie Sanders is a')\n",
    "makeTweets('Someone should tell Chuck Shumer')\n",
    "makeTweets('athandleOANN')\n",
    "makeTweets('athandleFoxNews')\n",
    "makeTweets('Obama')\n",
    "makeTweets('Joe Biden')"
   ]
  },
  {
   "cell_type": "code",
   "execution_count": 13,
   "metadata": {},
   "outputs": [
    {
     "name": "stdout",
     "output_type": "stream",
     "text": [
      "\u001b[31mProfessor Sarnikar congratulated the group on an excellent presentation, and then\u001b[0m \u001b[32mno mike asked for his support on his way to beat a campaign didnt be a complete and total catastrophe had a very good meeting with president putin of russia russia russia was very good and the very productive very successful trade deals that china was allowed to be united states by the other countries\u001b[0m\n",
      "\n"
     ]
    }
   ],
   "source": [
    "makeTweets('Professor Sarnikar congratulated the group on an excellent presentation, and then')"
   ]
  },
  {
   "cell_type": "code",
   "execution_count": 16,
   "metadata": {},
   "outputs": [
    {
     "name": "stdout",
     "output_type": "stream",
     "text": [
      "\u001b[31mProfessor Sarnikar congratulated the team on an excellent presentation, and then\u001b[0m \u001b[32mall the way can you believe he never never run about the impeachment deal is a total mess he is a joke and a great book if it wins to the united states of america will not rest until the us is in the white house that will be the next president of the united\u001b[0m\n",
      "\n"
     ]
    }
   ],
   "source": [
    "makeTweets('Professor Sarnikar congratulated the team on an excellent presentation, and then')"
   ]
  },
  {
   "cell_type": "code",
   "execution_count": 14,
   "metadata": {},
   "outputs": [
    {
     "name": "stdout",
     "output_type": "stream",
     "text": [
      "\u001b[31mProfessor Sarnikar said \"Great job!\" and noted the teams perfect score.  Then he\u001b[0m \u001b[32mhad to support and win in wisconsin to support american workers in first days more than the republican party is a vote for the republican party and the second amendment the democrats are trying to make america great again no wonder the people want to go down the fake news media is doing everything possible\u001b[0m\n",
      "\n"
     ]
    }
   ],
   "source": [
    "makeTweets('Professor Sarnikar said \"Great job!\" and noted the teams perfect score.  Then he')"
   ]
  },
  {
   "cell_type": "code",
   "execution_count": 15,
   "metadata": {},
   "outputs": [
    {
     "name": "stdout",
     "output_type": "stream",
     "text": [
      "\u001b[31mProfessor Sarnikar noted the teams perfect score and then\u001b[0m \u001b[32mat the white house news conference at pm eastern thank you thank you thank you to our wonderful heroes of the united states supreme court i am thrilled to be back in the first place in the beautiful state of pennsylvania this is not about my friend prime minister athandleabeshinzo of japan and mrs fabricated\u001b[0m\n",
      "\n"
     ]
    }
   ],
   "source": [
    "makeTweets('Professor Sarnikar noted the teams perfect score and then')"
   ]
  },
  {
   "cell_type": "code",
   "execution_count": 17,
   "metadata": {},
   "outputs": [
    {
     "name": "stdout",
     "output_type": "stream",
     "text": [
      "\u001b[31mProfessor Sarnikar thought the presentation was excellent, and he scored high marks for the entire team.\u001b[0m \u001b[32myou never been president i can never let you down north carolina open safely after almost all of the bad and dishonest story on me and the very dishonest media covered it about me to stop how to the united states supreme court accuses that the most successful agenda of any nation than the president\u001b[0m\n",
      "\n"
     ]
    }
   ],
   "source": [
    "makeTweets('Professor Sarnikar thought the presentation was excellent, and he scored high marks for the entire team.')"
   ]
  },
  {
   "cell_type": "code",
   "execution_count": 18,
   "metadata": {},
   "outputs": [
    {
     "name": "stdout",
     "output_type": "stream",
     "text": [
      "\u001b[31mProfessor Sarnikar was very impressed by the presentation and\u001b[0m \u001b[32myou there is no chance to athandlerealdonaldtrump athandlerealdonaldtrump athandlegovmikehuckabee incompetent this athandlerealdonaldtrump i have been great thank you for your kind words thank you michigan makeamericagreatagain thank you athandlemarklevinshow thank you for your kind words make america great again i will be interviewed on athandlefacethenation this morning at am on athandlefoxbusiness much much forward with\u001b[0m\n",
      "\n"
     ]
    }
   ],
   "source": [
    "makeTweets('Professor Sarnikar was very impressed by the presentation and')"
   ]
  },
  {
   "cell_type": "code",
   "execution_count": 19,
   "metadata": {},
   "outputs": [
    {
     "name": "stdout",
     "output_type": "stream",
     "text": [
      "\u001b[31mProfessor Sarnikar was totally blown away by\u001b[0m \u001b[32myour your family can fix it and make america great again maga my wife and i will be interviewed on athandlefoxandfriends at am enjoy i will be interviewed on athandlefoxandfriends at am enjoy i will be interviewed on athandlefoxandfriends at am enjoy i will be interviewed on athandlefoxandfriends at am enjoy i will be interviewed\u001b[0m\n",
      "\n"
     ]
    }
   ],
   "source": [
    "makeTweets('Professor Sarnikar was totally blown away by')"
   ]
  },
  {
   "cell_type": "code",
   "execution_count": null,
   "metadata": {},
   "outputs": [],
   "source": [
    "makeTweets('Professor Sarnikar was totally blown away by')"
   ]
  },
  {
   "cell_type": "code",
   "execution_count": null,
   "metadata": {},
   "outputs": [],
   "source": []
  },
  {
   "cell_type": "code",
   "execution_count": null,
   "metadata": {},
   "outputs": [],
   "source": []
  }
 ],
 "metadata": {
  "kernelspec": {
   "display_name": "Python 3",
   "language": "python",
   "name": "python3"
  },
  "language_info": {
   "codemirror_mode": {
    "name": "ipython",
    "version": 3
   },
   "file_extension": ".py",
   "mimetype": "text/x-python",
   "name": "python",
   "nbconvert_exporter": "python",
   "pygments_lexer": "ipython3",
   "version": "3.6.9"
  }
 },
 "nbformat": 4,
 "nbformat_minor": 2
}
